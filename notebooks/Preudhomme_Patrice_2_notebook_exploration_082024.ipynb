{
 "cells": [
  {
   "metadata": {},
   "cell_type": "markdown",
   "source": "### Load the data fom customers, orders, order_reviews and order_pymnts (other tables are not used in this notebook)",
   "id": "bd85f6b0c013cf08"
  },
  {
   "metadata": {
    "ExecuteTime": {
     "end_time": "2024-07-19T09:52:13.472397Z",
     "start_time": "2024-07-19T09:52:11.942237Z"
    }
   },
   "cell_type": "code",
   "source": [
    "import pandas as pd\n",
    "import sqlite3\n",
    "import os\n",
    "\n",
    "# Relative path to the database\n",
    "db_path = os.path.join('..', 'data', 'olist.db')\n",
    "conn = sqlite3.connect(db_path)\n",
    "\n",
    "# Load the tables into DataFrames\n",
    "customers = pd.read_sql_query(\"SELECT * FROM customers\", conn)\n",
    "orders = pd.read_sql_query(\"SELECT * FROM orders\", conn)\n",
    "order_reviews = pd.read_sql_query(\"SELECT * FROM order_reviews\", conn)\n",
    "order_pymts = pd.read_sql_query(\"SELECT * FROM order_pymts\", conn)\n",
    "\n",
    "\n",
    "conn.close()\n",
    "\n",
    "print(\"Data loaded successfully.\")\n"
   ],
   "id": "a3f73cf9674fbfe",
   "outputs": [
    {
     "name": "stdout",
     "output_type": "stream",
     "text": [
      "Data loaded successfully.\n"
     ]
    }
   ],
   "execution_count": 28
  },
  {
   "metadata": {},
   "cell_type": "markdown",
   "source": "### Merge the data from the different tables",
   "id": "34ddd9ecc5825ff8"
  },
  {
   "metadata": {
    "ExecuteTime": {
     "end_time": "2024-07-19T09:52:14.250964Z",
     "start_time": "2024-07-19T09:52:13.475398Z"
    }
   },
   "cell_type": "code",
   "source": [
    "# Merge the orders and customers tables\n",
    "orders_customers = pd.merge(orders, customers, on='customer_id', how='inner', suffixes=('_order', '_customer'))\n",
    "\n",
    "# Aggregate reviews by order_id\n",
    "order_reviews_agg = order_reviews.groupby('order_id').agg({\n",
    "    'review_score': 'mean',\n",
    "    'review_id': 'count'\n",
    "}).rename(columns={'review_score': 'avg_review_score', 'review_id': 'review_count'}).reset_index()\n",
    "\n",
    "# Aggregate payments by order_id\n",
    "order_pymts_agg = order_pymts.groupby('order_id').agg({\n",
    "    'payment_value': 'sum',\n",
    "    'payment_sequential': 'count'\n",
    "}).rename(columns={'payment_value': 'total_payment_value', 'payment_sequential': 'payment_count'}).reset_index()\n",
    "\n",
    "# Merge the aggregated reviews with orders_customers\n",
    "orders_customers_reviews = pd.merge(orders_customers, order_reviews_agg, on='order_id', how='left')\n",
    "\n",
    "# Merge the aggregated payments with orders_customers_reviews\n",
    "df_final = pd.merge(orders_customers_reviews, order_pymts_agg, on='order_id', how='left')\n",
    "\n",
    "# Perform a control on the number of rows before and after merge\n",
    "initial_row_count = len(orders)\n",
    "final_row_count = len(df_final)\n",
    "print(f\"Initial row count in orders table: {initial_row_count}\")\n",
    "print(f\"Final row count in df_final: {final_row_count}\")\n",
    "\n",
    "# Drop the customer_id column to avoid confusion\n",
    "df_final.drop(columns=['customer_id'], inplace=True)\n",
    "\n",
    "# Use only 'customer_unique_id' to identify each customer\n",
    "df_final = df_final[['customer_unique_id'] + [col for col in df_final.columns if col != 'customer_unique_id']]\n",
    "\n",
    "print(\"Tables merged successfully, data aggregated, and 'customer_id' column removed.\")\n",
    "df_final.head()\n"
   ],
   "id": "d8a296399b6908e5",
   "outputs": [
    {
     "name": "stdout",
     "output_type": "stream",
     "text": [
      "Initial row count in orders table: 99441\n",
      "Final row count in df_final: 99441\n",
      "Tables merged successfully, data aggregated, and 'customer_id' column removed.\n"
     ]
    },
    {
     "data": {
      "text/plain": [
       "                 customer_unique_id  index_order  \\\n",
       "0  7c396fd4830fd04220f754e42b4e5bff            0   \n",
       "1  af07308b275d755c9edb36a90c618231            1   \n",
       "2  3a653a41f6f9fc3d2a113cf8398680e8            2   \n",
       "3  7c142cf63193a1473d2e66489a9ae977            3   \n",
       "4  72632f0f9dd73dfee390c9b22eb56dd6            4   \n",
       "\n",
       "                           order_id order_status order_purchase_timestamp  \\\n",
       "0  e481f51cbdc54678b7cc49136f2d6af7    delivered      2017-10-02 10:56:33   \n",
       "1  53cdb2fc8bc7dce0b6741e2150273451    delivered      2018-07-24 20:41:37   \n",
       "2  47770eb9100c2d0c44946d9cf07ec65d    delivered      2018-08-08 08:38:49   \n",
       "3  949d5b44dbf5de918fe9c16f97b45f8a    delivered      2017-11-18 19:28:06   \n",
       "4  ad21c59c0840e6cb83a9ceb5573f8159    delivered      2018-02-13 21:18:39   \n",
       "\n",
       "     order_approved_at order_delivered_carrier_date  \\\n",
       "0  2017-10-02 11:07:15          2017-10-04 19:55:00   \n",
       "1  2018-07-26 03:24:27          2018-07-26 14:31:00   \n",
       "2  2018-08-08 08:55:23          2018-08-08 13:50:00   \n",
       "3  2017-11-18 19:45:59          2017-11-22 13:39:59   \n",
       "4  2018-02-13 22:20:29          2018-02-14 19:46:34   \n",
       "\n",
       "  order_delivered_customer_date order_estimated_delivery_date  index_customer  \\\n",
       "0           2017-10-10 21:25:13           2017-10-18 00:00:00           70296   \n",
       "1           2018-08-07 15:27:45           2018-08-13 00:00:00           77027   \n",
       "2           2018-08-17 18:06:29           2018-09-04 00:00:00             554   \n",
       "3           2017-12-02 00:28:42           2017-12-15 00:00:00           61081   \n",
       "4           2018-02-16 18:17:02           2018-02-26 00:00:00           67263   \n",
       "\n",
       "   customer_zip_code_prefix            customer_city customer_state  \\\n",
       "0                      3149                sao paulo             SP   \n",
       "1                     47813                barreiras             BA   \n",
       "2                     75265               vianopolis             GO   \n",
       "3                     59296  sao goncalo do amarante             RN   \n",
       "4                      9195              santo andre             SP   \n",
       "\n",
       "   avg_review_score  review_count  total_payment_value  payment_count  \n",
       "0               4.0           1.0                38.71            3.0  \n",
       "1               4.0           1.0               141.46            1.0  \n",
       "2               5.0           1.0               179.12            1.0  \n",
       "3               5.0           1.0                72.20            1.0  \n",
       "4               5.0           1.0                28.62            1.0  "
      ],
      "text/html": [
       "<div>\n",
       "<style scoped>\n",
       "    .dataframe tbody tr th:only-of-type {\n",
       "        vertical-align: middle;\n",
       "    }\n",
       "\n",
       "    .dataframe tbody tr th {\n",
       "        vertical-align: top;\n",
       "    }\n",
       "\n",
       "    .dataframe thead th {\n",
       "        text-align: right;\n",
       "    }\n",
       "</style>\n",
       "<table border=\"1\" class=\"dataframe\">\n",
       "  <thead>\n",
       "    <tr style=\"text-align: right;\">\n",
       "      <th></th>\n",
       "      <th>customer_unique_id</th>\n",
       "      <th>index_order</th>\n",
       "      <th>order_id</th>\n",
       "      <th>order_status</th>\n",
       "      <th>order_purchase_timestamp</th>\n",
       "      <th>order_approved_at</th>\n",
       "      <th>order_delivered_carrier_date</th>\n",
       "      <th>order_delivered_customer_date</th>\n",
       "      <th>order_estimated_delivery_date</th>\n",
       "      <th>index_customer</th>\n",
       "      <th>customer_zip_code_prefix</th>\n",
       "      <th>customer_city</th>\n",
       "      <th>customer_state</th>\n",
       "      <th>avg_review_score</th>\n",
       "      <th>review_count</th>\n",
       "      <th>total_payment_value</th>\n",
       "      <th>payment_count</th>\n",
       "    </tr>\n",
       "  </thead>\n",
       "  <tbody>\n",
       "    <tr>\n",
       "      <th>0</th>\n",
       "      <td>7c396fd4830fd04220f754e42b4e5bff</td>\n",
       "      <td>0</td>\n",
       "      <td>e481f51cbdc54678b7cc49136f2d6af7</td>\n",
       "      <td>delivered</td>\n",
       "      <td>2017-10-02 10:56:33</td>\n",
       "      <td>2017-10-02 11:07:15</td>\n",
       "      <td>2017-10-04 19:55:00</td>\n",
       "      <td>2017-10-10 21:25:13</td>\n",
       "      <td>2017-10-18 00:00:00</td>\n",
       "      <td>70296</td>\n",
       "      <td>3149</td>\n",
       "      <td>sao paulo</td>\n",
       "      <td>SP</td>\n",
       "      <td>4.0</td>\n",
       "      <td>1.0</td>\n",
       "      <td>38.71</td>\n",
       "      <td>3.0</td>\n",
       "    </tr>\n",
       "    <tr>\n",
       "      <th>1</th>\n",
       "      <td>af07308b275d755c9edb36a90c618231</td>\n",
       "      <td>1</td>\n",
       "      <td>53cdb2fc8bc7dce0b6741e2150273451</td>\n",
       "      <td>delivered</td>\n",
       "      <td>2018-07-24 20:41:37</td>\n",
       "      <td>2018-07-26 03:24:27</td>\n",
       "      <td>2018-07-26 14:31:00</td>\n",
       "      <td>2018-08-07 15:27:45</td>\n",
       "      <td>2018-08-13 00:00:00</td>\n",
       "      <td>77027</td>\n",
       "      <td>47813</td>\n",
       "      <td>barreiras</td>\n",
       "      <td>BA</td>\n",
       "      <td>4.0</td>\n",
       "      <td>1.0</td>\n",
       "      <td>141.46</td>\n",
       "      <td>1.0</td>\n",
       "    </tr>\n",
       "    <tr>\n",
       "      <th>2</th>\n",
       "      <td>3a653a41f6f9fc3d2a113cf8398680e8</td>\n",
       "      <td>2</td>\n",
       "      <td>47770eb9100c2d0c44946d9cf07ec65d</td>\n",
       "      <td>delivered</td>\n",
       "      <td>2018-08-08 08:38:49</td>\n",
       "      <td>2018-08-08 08:55:23</td>\n",
       "      <td>2018-08-08 13:50:00</td>\n",
       "      <td>2018-08-17 18:06:29</td>\n",
       "      <td>2018-09-04 00:00:00</td>\n",
       "      <td>554</td>\n",
       "      <td>75265</td>\n",
       "      <td>vianopolis</td>\n",
       "      <td>GO</td>\n",
       "      <td>5.0</td>\n",
       "      <td>1.0</td>\n",
       "      <td>179.12</td>\n",
       "      <td>1.0</td>\n",
       "    </tr>\n",
       "    <tr>\n",
       "      <th>3</th>\n",
       "      <td>7c142cf63193a1473d2e66489a9ae977</td>\n",
       "      <td>3</td>\n",
       "      <td>949d5b44dbf5de918fe9c16f97b45f8a</td>\n",
       "      <td>delivered</td>\n",
       "      <td>2017-11-18 19:28:06</td>\n",
       "      <td>2017-11-18 19:45:59</td>\n",
       "      <td>2017-11-22 13:39:59</td>\n",
       "      <td>2017-12-02 00:28:42</td>\n",
       "      <td>2017-12-15 00:00:00</td>\n",
       "      <td>61081</td>\n",
       "      <td>59296</td>\n",
       "      <td>sao goncalo do amarante</td>\n",
       "      <td>RN</td>\n",
       "      <td>5.0</td>\n",
       "      <td>1.0</td>\n",
       "      <td>72.20</td>\n",
       "      <td>1.0</td>\n",
       "    </tr>\n",
       "    <tr>\n",
       "      <th>4</th>\n",
       "      <td>72632f0f9dd73dfee390c9b22eb56dd6</td>\n",
       "      <td>4</td>\n",
       "      <td>ad21c59c0840e6cb83a9ceb5573f8159</td>\n",
       "      <td>delivered</td>\n",
       "      <td>2018-02-13 21:18:39</td>\n",
       "      <td>2018-02-13 22:20:29</td>\n",
       "      <td>2018-02-14 19:46:34</td>\n",
       "      <td>2018-02-16 18:17:02</td>\n",
       "      <td>2018-02-26 00:00:00</td>\n",
       "      <td>67263</td>\n",
       "      <td>9195</td>\n",
       "      <td>santo andre</td>\n",
       "      <td>SP</td>\n",
       "      <td>5.0</td>\n",
       "      <td>1.0</td>\n",
       "      <td>28.62</td>\n",
       "      <td>1.0</td>\n",
       "    </tr>\n",
       "  </tbody>\n",
       "</table>\n",
       "</div>"
      ]
     },
     "execution_count": 29,
     "metadata": {},
     "output_type": "execute_result"
    }
   ],
   "execution_count": 29
  },
  {
   "metadata": {},
   "cell_type": "markdown",
   "source": "### Save the Final DataFrame to a CSV File",
   "id": "1e80938a5b147b9"
  },
  {
   "metadata": {
    "ExecuteTime": {
     "end_time": "2024-07-19T09:52:15.562407Z",
     "start_time": "2024-07-19T09:52:14.251966Z"
    }
   },
   "cell_type": "code",
   "source": [
    "# Ensure the data directory exists\n",
    "output_dir = os.path.join('..', 'data')\n",
    "os.makedirs(output_dir, exist_ok=True)\n",
    "\n",
    "# Save the final DataFrame to a CSV file in the data directory\n",
    "output_path = os.path.join(output_dir, 'df_final.csv')\n",
    "df_final.to_csv(output_path, index=False)\n",
    "print(f\"df_final saved to {output_path}\")\n"
   ],
   "id": "65c185cde58d5d47",
   "outputs": [
    {
     "name": "stdout",
     "output_type": "stream",
     "text": [
      "df_final saved to ..\\data\\df_final.csv\n"
     ]
    }
   ],
   "execution_count": 30
  },
  {
   "metadata": {},
   "cell_type": "markdown",
   "source": "### Step 1: Exploratory Data Analysis (EDA)",
   "id": "295ae26bee4960e6"
  },
  {
   "metadata": {},
   "cell_type": "markdown",
   "source": "#### First, we will conduct exploratory data analysis to understand the dataset better. This includes summarizing the data, checking for missing values, and visualizing distributions.",
   "id": "4af431dec111576c"
  },
  {
   "metadata": {
    "ExecuteTime": {
     "end_time": "2024-07-19T09:52:16.155287Z",
     "start_time": "2024-07-19T09:52:15.565911Z"
    }
   },
   "cell_type": "code",
   "source": [
    "import pandas as pd\n",
    "import matplotlib.pyplot as plt\n",
    "import seaborn as sns\n",
    "import os\n",
    "\n",
    "# Load the final DataFrame\n",
    "df_final_path = os.path.join('..', 'data', 'df_final.csv')\n",
    "df_final = pd.read_csv(df_final_path)\n",
    "\n",
    "# Display the first few rows\n",
    "print(\"First few rows of the DataFrame:\")\n",
    "print(df_final.head())\n",
    "\n",
    "\n",
    "# Summary statistics\n",
    "print(\"Summary statistics:\")\n",
    "print(df_final.describe())\n",
    "\n",
    "\n",
    "# Check for missing values\n",
    "missing_values = df_final.isnull().sum()\n",
    "missing_values_with_data = missing_values[missing_values > 0]\n",
    "\n",
    "if not missing_values_with_data.empty:\n",
    "    print(\"Columns with missing values and their respective counts:\")\n",
    "    print(missing_values_with_data)\n",
    "else:\n",
    "    print(\"No missing values found in the DataFrame.\")\n"
   ],
   "id": "f359ac07906923a6",
   "outputs": [
    {
     "name": "stdout",
     "output_type": "stream",
     "text": [
      "First few rows of the DataFrame:\n",
      "                 customer_unique_id  index_order  \\\n",
      "0  7c396fd4830fd04220f754e42b4e5bff            0   \n",
      "1  af07308b275d755c9edb36a90c618231            1   \n",
      "2  3a653a41f6f9fc3d2a113cf8398680e8            2   \n",
      "3  7c142cf63193a1473d2e66489a9ae977            3   \n",
      "4  72632f0f9dd73dfee390c9b22eb56dd6            4   \n",
      "\n",
      "                           order_id order_status order_purchase_timestamp  \\\n",
      "0  e481f51cbdc54678b7cc49136f2d6af7    delivered      2017-10-02 10:56:33   \n",
      "1  53cdb2fc8bc7dce0b6741e2150273451    delivered      2018-07-24 20:41:37   \n",
      "2  47770eb9100c2d0c44946d9cf07ec65d    delivered      2018-08-08 08:38:49   \n",
      "3  949d5b44dbf5de918fe9c16f97b45f8a    delivered      2017-11-18 19:28:06   \n",
      "4  ad21c59c0840e6cb83a9ceb5573f8159    delivered      2018-02-13 21:18:39   \n",
      "\n",
      "     order_approved_at order_delivered_carrier_date  \\\n",
      "0  2017-10-02 11:07:15          2017-10-04 19:55:00   \n",
      "1  2018-07-26 03:24:27          2018-07-26 14:31:00   \n",
      "2  2018-08-08 08:55:23          2018-08-08 13:50:00   \n",
      "3  2017-11-18 19:45:59          2017-11-22 13:39:59   \n",
      "4  2018-02-13 22:20:29          2018-02-14 19:46:34   \n",
      "\n",
      "  order_delivered_customer_date order_estimated_delivery_date  index_customer  \\\n",
      "0           2017-10-10 21:25:13           2017-10-18 00:00:00           70296   \n",
      "1           2018-08-07 15:27:45           2018-08-13 00:00:00           77027   \n",
      "2           2018-08-17 18:06:29           2018-09-04 00:00:00             554   \n",
      "3           2017-12-02 00:28:42           2017-12-15 00:00:00           61081   \n",
      "4           2018-02-16 18:17:02           2018-02-26 00:00:00           67263   \n",
      "\n",
      "   customer_zip_code_prefix            customer_city customer_state  \\\n",
      "0                      3149                sao paulo             SP   \n",
      "1                     47813                barreiras             BA   \n",
      "2                     75265               vianopolis             GO   \n",
      "3                     59296  sao goncalo do amarante             RN   \n",
      "4                      9195              santo andre             SP   \n",
      "\n",
      "   avg_review_score  review_count  total_payment_value  payment_count  \n",
      "0               4.0           1.0                38.71            3.0  \n",
      "1               4.0           1.0               141.46            1.0  \n",
      "2               5.0           1.0               179.12            1.0  \n",
      "3               5.0           1.0                72.20            1.0  \n",
      "4               5.0           1.0                28.62            1.0  \n",
      "Summary statistics:\n",
      "        index_order  index_customer  customer_zip_code_prefix  \\\n",
      "count  99441.000000    99441.000000              99441.000000   \n",
      "mean   49720.000000    49720.000000              35137.474583   \n",
      "std    28706.288396    28706.288396              29797.938996   \n",
      "min        0.000000        0.000000               1003.000000   \n",
      "25%    24860.000000    24860.000000              11347.000000   \n",
      "50%    49720.000000    49720.000000              24416.000000   \n",
      "75%    74580.000000    74580.000000              58900.000000   \n",
      "max    99440.000000    99440.000000              99990.000000   \n",
      "\n",
      "       avg_review_score  review_count  total_payment_value  payment_count  \n",
      "count      98673.000000  98673.000000         99440.000000   99440.000000  \n",
      "mean           4.086793      1.005584           160.990267       1.044710  \n",
      "std            1.346274      0.075060           221.951257       0.381166  \n",
      "min            1.000000      1.000000             0.000000       1.000000  \n",
      "25%            4.000000      1.000000            62.010000       1.000000  \n",
      "50%            5.000000      1.000000           105.290000       1.000000  \n",
      "75%            5.000000      1.000000           176.970000       1.000000  \n",
      "max            5.000000      3.000000         13664.080000      29.000000  \n",
      "Columns with missing values and their respective counts:\n",
      "order_approved_at                 160\n",
      "order_delivered_carrier_date     1783\n",
      "order_delivered_customer_date    2965\n",
      "avg_review_score                  768\n",
      "review_count                      768\n",
      "total_payment_value                 1\n",
      "payment_count                       1\n",
      "dtype: int64\n"
     ]
    }
   ],
   "execution_count": 31
  },
  {
   "metadata": {
    "ExecuteTime": {
     "end_time": "2024-07-19T09:52:16.217424Z",
     "start_time": "2024-07-19T09:52:16.157299Z"
    }
   },
   "cell_type": "code",
   "source": "df_final.info()",
   "id": "582286ad64c9ebf9",
   "outputs": [
    {
     "name": "stdout",
     "output_type": "stream",
     "text": [
      "<class 'pandas.core.frame.DataFrame'>\n",
      "RangeIndex: 99441 entries, 0 to 99440\n",
      "Data columns (total 17 columns):\n",
      " #   Column                         Non-Null Count  Dtype  \n",
      "---  ------                         --------------  -----  \n",
      " 0   customer_unique_id             99441 non-null  object \n",
      " 1   index_order                    99441 non-null  int64  \n",
      " 2   order_id                       99441 non-null  object \n",
      " 3   order_status                   99441 non-null  object \n",
      " 4   order_purchase_timestamp       99441 non-null  object \n",
      " 5   order_approved_at              99281 non-null  object \n",
      " 6   order_delivered_carrier_date   97658 non-null  object \n",
      " 7   order_delivered_customer_date  96476 non-null  object \n",
      " 8   order_estimated_delivery_date  99441 non-null  object \n",
      " 9   index_customer                 99441 non-null  int64  \n",
      " 10  customer_zip_code_prefix       99441 non-null  int64  \n",
      " 11  customer_city                  99441 non-null  object \n",
      " 12  customer_state                 99441 non-null  object \n",
      " 13  avg_review_score               98673 non-null  float64\n",
      " 14  review_count                   98673 non-null  float64\n",
      " 15  total_payment_value            99440 non-null  float64\n",
      " 16  payment_count                  99440 non-null  float64\n",
      "dtypes: float64(4), int64(3), object(10)\n",
      "memory usage: 12.9+ MB\n"
     ]
    }
   ],
   "execution_count": 32
  },
  {
   "metadata": {},
   "cell_type": "markdown",
   "source": "### Check for Duplicates orders in df_final  ",
   "id": "58b8b656a3acc263"
  },
  {
   "metadata": {
    "ExecuteTime": {
     "end_time": "2024-07-19T09:52:16.732637Z",
     "start_time": "2024-07-19T09:52:16.219421Z"
    }
   },
   "cell_type": "code",
   "source": [
    "import pandas as pd\n",
    "import os\n",
    "\n",
    "# Load the final DataFrame from the CSV file\n",
    "df_final_path = os.path.join('..', 'data', 'df_final.csv')\n",
    "df_final = pd.read_csv(df_final_path)\n",
    "\n",
    "# Check for duplicates based on 'order_id'\n",
    "duplicate_orders = df_final[df_final.duplicated(subset=['order_id'], keep=False)]\n",
    "\n",
    "# Print the number of duplicate rows and display them\n",
    "num_duplicates = len(duplicate_orders)\n",
    "if num_duplicates > 0:\n",
    "    print(f\"Number of duplicate rows in df_final: {num_duplicates}\")\n",
    "    print(duplicate_orders)\n",
    "else:\n",
    "    print(\"No duplicate rows found in df_final.\")\n"
   ],
   "id": "7846bee34d15563b",
   "outputs": [
    {
     "name": "stdout",
     "output_type": "stream",
     "text": [
      "No duplicate rows found in df_final.\n"
     ]
    }
   ],
   "execution_count": 33
  },
  {
   "metadata": {},
   "cell_type": "markdown",
   "source": "### Visualize Distributions of Key Features",
   "id": "60934c7a707f3601"
  },
  {
   "metadata": {
    "ExecuteTime": {
     "end_time": "2024-07-19T09:52:19.604376Z",
     "start_time": "2024-07-19T09:52:16.734638Z"
    }
   },
   "cell_type": "code",
   "source": [
    "# Visualize distributions of key features\n",
    "plt.figure(figsize=(12, 6))\n",
    "sns.histplot(df_final['total_payment_value'], bins=30, kde=True)\n",
    "plt.title('Distribution of Total Payment Value')\n",
    "plt.show()\n",
    "\n",
    "plt.figure(figsize=(12, 6))\n",
    "sns.histplot(df_final['avg_review_score'], bins=30, kde=True)\n",
    "plt.title('Distribution of Average Review Score')\n",
    "plt.show()\n",
    "\n",
    "plt.figure(figsize=(12, 6))\n",
    "sns.histplot(df_final['payment_count'], bins=30, kde=True)\n",
    "plt.title('Distribution of Payment Count')\n",
    "plt.show()\n"
   ],
   "id": "eb6119f75b9c68ce",
   "outputs": [
    {
     "data": {
      "text/plain": [
       "<Figure size 864x432 with 1 Axes>"
      ],
      "image/png": "[encoded data removed]"
     },
     "metadata": {
      "needs_background": "light"
     },
     "output_type": "display_data"
    },
    {
     "data": {
      "text/plain": [
       "<Figure size 864x432 with 1 Axes>"
      ],
      "image/png": "[encoded data removed]"
     },
     "metadata": {
      "needs_background": "light"
     },
     "output_type": "display_data"
    },
    {
     "data": {
      "text/plain": [
       "<Figure size 864x432 with 1 Axes>"
      ],
      "image/png": "[encoded data removed]"
     },
     "metadata": {
      "needs_background": "light"
     },
     "output_type": "display_data"
    }
   ],
   "execution_count": 34
  },
  {
   "metadata": {
    "ExecuteTime": {
     "end_time": "2024-07-19T09:52:20.319680Z",
     "start_time": "2024-07-19T09:52:19.606378Z"
    }
   },
   "cell_type": "code",
   "source": [
    "# Correlation matrix\n",
    "import pandas as pd\n",
    "import seaborn as sns\n",
    "import matplotlib.pyplot as plt\n",
    "import os\n",
    "\n",
    "# Load the final DataFrame from the CSV file\n",
    "df_final_path = os.path.join('..', 'data', 'df_final.csv')\n",
    "df_final = pd.read_csv(df_final_path)\n",
    "\n",
    "# Select the relevant numerical variables (excluding 'index_order' and 'index_customer')\n",
    "numerical_vars = ['customer_zip_code_prefix', 'avg_review_score', 'review_count', 'total_payment_value', 'payment_count']\n",
    "\n",
    "# Compute the correlation matrix\n",
    "correlation_matrix = df_final[numerical_vars].corr()\n",
    "\n",
    "# Print the correlation matrix\n",
    "print(\"Correlation matrix:\")\n",
    "print(correlation_matrix)\n",
    "\n",
    "# Visualize the correlation matrix\n",
    "plt.figure(figsize=(12, 8))\n",
    "sns.heatmap(correlation_matrix, annot=True, cmap='coolwarm', vmin=-1, vmax=1)\n",
    "plt.title('Correlation Matrix of Numerical Variables')\n",
    "plt.show()\n",
    "\n"
   ],
   "id": "ff6eefd5fd46a6b9",
   "outputs": [
    {
     "name": "stdout",
     "output_type": "stream",
     "text": [
      "Correlation matrix:\n",
      "                          customer_zip_code_prefix  avg_review_score  \\\n",
      "customer_zip_code_prefix                  1.000000         -0.016327   \n",
      "avg_review_score                         -0.016327          1.000000   \n",
      "review_count                              0.001399         -0.003710   \n",
      "total_payment_value                       0.057813         -0.049137   \n",
      "payment_count                            -0.005991         -0.004567   \n",
      "\n",
      "                          review_count  total_payment_value  payment_count  \n",
      "customer_zip_code_prefix      0.001399             0.057813      -0.005991  \n",
      "avg_review_score             -0.003710            -0.049137      -0.004567  \n",
      "review_count                  1.000000            -0.009796       0.005426  \n",
      "total_payment_value          -0.009796             1.000000       0.002036  \n",
      "payment_count                 0.005426             0.002036       1.000000  \n"
     ]
    },
    {
     "data": {
      "text/plain": [
       "<Figure size 864x576 with 2 Axes>"
      ],
      "image/png": "[encoded data removed]"
     },
     "metadata": {
      "needs_background": "light"
     },
     "output_type": "display_data"
    }
   ],
   "execution_count": 35
  },
  {
   "metadata": {},
   "cell_type": "markdown",
   "source": [
    "### Business Interpretation:\n",
    "\n",
    "- Customer Location (Zip Code):\n",
    "        Customer location, as indicated by zip code, does not have a significant impact on their behavior in terms of review scores, number of reviews, payment value, or payment count. This means marketing strategies and customer satisfaction efforts do not need to be heavily tailored based on customer location.\n",
    "\n",
    "- Customer Reviews:\n",
    "        The average review score and the number of reviews a customer leaves are largely independent of their payment behavior. This implies that a customer's satisfaction as reflected in reviews does not correlate strongly with how much they spend or how many payments they make.\n",
    "\n",
    "- Customer Payments:\n",
    "        The total payment value and the number of payments a customer makes are almost independent of their review scores and review count. This suggests that higher spending customers are not necessarily the ones who leave more or better reviews.\n",
    "\n",
    "- Segmenting Customers:\n",
    "\n",
    "    For segmentation purposes, it might be more beneficial to focus on variables other than those analyzed here, such as purchase frequency, recency of purchases, and specific product categories of interest to the customer. \n",
    "        "
   ],
   "id": "b01d049b1126ab4e"
  },
  {
   "metadata": {},
   "cell_type": "markdown",
   "source": "### Feature Engineering (RFM and Other Features)",
   "id": "d2a432aad9fc273f"
  },
  {
   "metadata": {
    "ExecuteTime": {
     "end_time": "2024-07-19T09:52:21.270323Z",
     "start_time": "2024-07-19T09:52:20.320602Z"
    }
   },
   "cell_type": "code",
   "source": [
    "import pandas as pd\n",
    "import numpy as np\n",
    "import os\n",
    "\n",
    "# Load the final DataFrame\n",
    "df_final_path = os.path.join('..', 'data', 'df_final.csv')\n",
    "df_final = pd.read_csv(df_final_path)\n",
    "\n",
    "# Convert date columns to datetime\n",
    "df_final['order_purchase_timestamp'] = pd.to_datetime(df_final['order_purchase_timestamp'])\n",
    "\n",
    "# Recency: Days since last purchase\n",
    "max_purchase_date = df_final['order_purchase_timestamp'].max()\n",
    "df_final['recency'] = (max_purchase_date - df_final['order_purchase_timestamp']).dt.days\n",
    "\n",
    "# Frequency: Number of orders per customer\n",
    "frequency = df_final.groupby('customer_unique_id').size().reset_index(name='frequency')\n",
    "\n",
    "# Monetary: Total payment value per customer\n",
    "monetary = df_final.groupby('customer_unique_id')['total_payment_value'].sum().reset_index()\n",
    "\n",
    "# Merge RFM features into df_final\n",
    "df_final = df_final.merge(frequency, on='customer_unique_id', how='left').merge(monetary, on='customer_unique_id', how='left')\n",
    "\n",
    "# Handle missing values\n",
    "df_final['recency'].fillna(0, inplace=True)\n",
    "df_final['frequency'].fillna(0, inplace=True)\n",
    "df_final['total_payment_value'].fillna(0, inplace=True)\n",
    "df_final['avg_review_score'].fillna(0, inplace=True)\n",
    "df_final['review_count'].fillna(0, inplace=True)\n",
    "\n",
    "# Save the updated DataFrame to CSV\n",
    "output_path = os.path.join('..', 'data', 'df_final_with_rfm.csv')\n",
    "df_final.to_csv(output_path, index=False)\n",
    "print(f\"df_final saved to {output_path}\")\n",
    "\n",
    "# Check the structure and head of the final DataFrame\n",
    "print(\"Final DataFrame structure and first few rows:\")\n",
    "print(df_final.info())\n",
    "print(df_final.head())\n"
   ],
   "id": "bf1fb429eefb3463",
   "outputs": [
    {
     "ename": "KeyError",
     "evalue": "'total_payment_value'",
     "output_type": "error",
     "traceback": [
      "\u001B[1;31m---------------------------------------------------------------------------\u001B[0m",
      "\u001B[1;31mKeyError\u001B[0m                                  Traceback (most recent call last)",
      "File \u001B[1;32m~\\.conda\\envs\\P5\\lib\\site-packages\\pandas\\core\\indexes\\base.py:3653\u001B[0m, in \u001B[0;36mIndex.get_loc\u001B[1;34m(self, key)\u001B[0m\n\u001B[0;32m   3652\u001B[0m \u001B[38;5;28;01mtry\u001B[39;00m:\n\u001B[1;32m-> 3653\u001B[0m     \u001B[38;5;28;01mreturn\u001B[39;00m \u001B[38;5;28;43mself\u001B[39;49m\u001B[38;5;241;43m.\u001B[39;49m\u001B[43m_engine\u001B[49m\u001B[38;5;241;43m.\u001B[39;49m\u001B[43mget_loc\u001B[49m\u001B[43m(\u001B[49m\u001B[43mcasted_key\u001B[49m\u001B[43m)\u001B[49m\n\u001B[0;32m   3654\u001B[0m \u001B[38;5;28;01mexcept\u001B[39;00m \u001B[38;5;167;01mKeyError\u001B[39;00m \u001B[38;5;28;01mas\u001B[39;00m err:\n",
      "File \u001B[1;32m~\\.conda\\envs\\P5\\lib\\site-packages\\pandas\\_libs\\index.pyx:147\u001B[0m, in \u001B[0;36mpandas._libs.index.IndexEngine.get_loc\u001B[1;34m()\u001B[0m\n",
      "File \u001B[1;32m~\\.conda\\envs\\P5\\lib\\site-packages\\pandas\\_libs\\index.pyx:176\u001B[0m, in \u001B[0;36mpandas._libs.index.IndexEngine.get_loc\u001B[1;34m()\u001B[0m\n",
      "File \u001B[1;32mpandas\\_libs\\hashtable_class_helper.pxi:7080\u001B[0m, in \u001B[0;36mpandas._libs.hashtable.PyObjectHashTable.get_item\u001B[1;34m()\u001B[0m\n",
      "File \u001B[1;32mpandas\\_libs\\hashtable_class_helper.pxi:7088\u001B[0m, in \u001B[0;36mpandas._libs.hashtable.PyObjectHashTable.get_item\u001B[1;34m()\u001B[0m\n",
      "\u001B[1;31mKeyError\u001B[0m: 'total_payment_value'",
      "\nThe above exception was the direct cause of the following exception:\n",
      "\u001B[1;31mKeyError\u001B[0m                                  Traceback (most recent call last)",
      "Input \u001B[1;32mIn [36]\u001B[0m, in \u001B[0;36m<cell line: 28>\u001B[1;34m()\u001B[0m\n\u001B[0;32m     26\u001B[0m df_final[\u001B[38;5;124m'\u001B[39m\u001B[38;5;124mrecency\u001B[39m\u001B[38;5;124m'\u001B[39m]\u001B[38;5;241m.\u001B[39mfillna(\u001B[38;5;241m0\u001B[39m, inplace\u001B[38;5;241m=\u001B[39m\u001B[38;5;28;01mTrue\u001B[39;00m)\n\u001B[0;32m     27\u001B[0m df_final[\u001B[38;5;124m'\u001B[39m\u001B[38;5;124mfrequency\u001B[39m\u001B[38;5;124m'\u001B[39m]\u001B[38;5;241m.\u001B[39mfillna(\u001B[38;5;241m0\u001B[39m, inplace\u001B[38;5;241m=\u001B[39m\u001B[38;5;28;01mTrue\u001B[39;00m)\n\u001B[1;32m---> 28\u001B[0m \u001B[43mdf_final\u001B[49m\u001B[43m[\u001B[49m\u001B[38;5;124;43m'\u001B[39;49m\u001B[38;5;124;43mtotal_payment_value\u001B[39;49m\u001B[38;5;124;43m'\u001B[39;49m\u001B[43m]\u001B[49m\u001B[38;5;241m.\u001B[39mfillna(\u001B[38;5;241m0\u001B[39m, inplace\u001B[38;5;241m=\u001B[39m\u001B[38;5;28;01mTrue\u001B[39;00m)\n\u001B[0;32m     29\u001B[0m df_final[\u001B[38;5;124m'\u001B[39m\u001B[38;5;124mavg_review_score\u001B[39m\u001B[38;5;124m'\u001B[39m]\u001B[38;5;241m.\u001B[39mfillna(\u001B[38;5;241m0\u001B[39m, inplace\u001B[38;5;241m=\u001B[39m\u001B[38;5;28;01mTrue\u001B[39;00m)\n\u001B[0;32m     30\u001B[0m df_final[\u001B[38;5;124m'\u001B[39m\u001B[38;5;124mreview_count\u001B[39m\u001B[38;5;124m'\u001B[39m]\u001B[38;5;241m.\u001B[39mfillna(\u001B[38;5;241m0\u001B[39m, inplace\u001B[38;5;241m=\u001B[39m\u001B[38;5;28;01mTrue\u001B[39;00m)\n",
      "File \u001B[1;32m~\\.conda\\envs\\P5\\lib\\site-packages\\pandas\\core\\frame.py:3761\u001B[0m, in \u001B[0;36mDataFrame.__getitem__\u001B[1;34m(self, key)\u001B[0m\n\u001B[0;32m   3759\u001B[0m \u001B[38;5;28;01mif\u001B[39;00m \u001B[38;5;28mself\u001B[39m\u001B[38;5;241m.\u001B[39mcolumns\u001B[38;5;241m.\u001B[39mnlevels \u001B[38;5;241m>\u001B[39m \u001B[38;5;241m1\u001B[39m:\n\u001B[0;32m   3760\u001B[0m     \u001B[38;5;28;01mreturn\u001B[39;00m \u001B[38;5;28mself\u001B[39m\u001B[38;5;241m.\u001B[39m_getitem_multilevel(key)\n\u001B[1;32m-> 3761\u001B[0m indexer \u001B[38;5;241m=\u001B[39m \u001B[38;5;28;43mself\u001B[39;49m\u001B[38;5;241;43m.\u001B[39;49m\u001B[43mcolumns\u001B[49m\u001B[38;5;241;43m.\u001B[39;49m\u001B[43mget_loc\u001B[49m\u001B[43m(\u001B[49m\u001B[43mkey\u001B[49m\u001B[43m)\u001B[49m\n\u001B[0;32m   3762\u001B[0m \u001B[38;5;28;01mif\u001B[39;00m is_integer(indexer):\n\u001B[0;32m   3763\u001B[0m     indexer \u001B[38;5;241m=\u001B[39m [indexer]\n",
      "File \u001B[1;32m~\\.conda\\envs\\P5\\lib\\site-packages\\pandas\\core\\indexes\\base.py:3655\u001B[0m, in \u001B[0;36mIndex.get_loc\u001B[1;34m(self, key)\u001B[0m\n\u001B[0;32m   3653\u001B[0m     \u001B[38;5;28;01mreturn\u001B[39;00m \u001B[38;5;28mself\u001B[39m\u001B[38;5;241m.\u001B[39m_engine\u001B[38;5;241m.\u001B[39mget_loc(casted_key)\n\u001B[0;32m   3654\u001B[0m \u001B[38;5;28;01mexcept\u001B[39;00m \u001B[38;5;167;01mKeyError\u001B[39;00m \u001B[38;5;28;01mas\u001B[39;00m err:\n\u001B[1;32m-> 3655\u001B[0m     \u001B[38;5;28;01mraise\u001B[39;00m \u001B[38;5;167;01mKeyError\u001B[39;00m(key) \u001B[38;5;28;01mfrom\u001B[39;00m \u001B[38;5;21;01merr\u001B[39;00m\n\u001B[0;32m   3656\u001B[0m \u001B[38;5;28;01mexcept\u001B[39;00m \u001B[38;5;167;01mTypeError\u001B[39;00m:\n\u001B[0;32m   3657\u001B[0m     \u001B[38;5;66;03m# If we have a listlike key, _check_indexing_error will raise\u001B[39;00m\n\u001B[0;32m   3658\u001B[0m     \u001B[38;5;66;03m#  InvalidIndexError. Otherwise we fall through and re-raise\u001B[39;00m\n\u001B[0;32m   3659\u001B[0m     \u001B[38;5;66;03m#  the TypeError.\u001B[39;00m\n\u001B[0;32m   3660\u001B[0m     \u001B[38;5;28mself\u001B[39m\u001B[38;5;241m.\u001B[39m_check_indexing_error(key)\n",
      "\u001B[1;31mKeyError\u001B[0m: 'total_payment_value'"
     ]
    }
   ],
   "execution_count": 36
  },
  {
   "metadata": {},
   "cell_type": "code",
   "source": "",
   "id": "5296001644d791e5",
   "outputs": [],
   "execution_count": null
  }
 ],
 "metadata": {
  "kernelspec": {
   "display_name": "Python 3",
   "language": "python",
   "name": "python3"
  },
  "language_info": {
   "codemirror_mode": {
    "name": "ipython",
    "version": 2
   },
   "file_extension": ".py",
   "mimetype": "text/x-python",
   "name": "python",
   "nbconvert_exporter": "python",
   "pygments_lexer": "ipython2",
   "version": "2.7.6"
  }
 },
 "nbformat": 4,
 "nbformat_minor": 5
}
